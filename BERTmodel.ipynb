{
 "cells": [
  {
   "cell_type": "code",
   "execution_count": 1,
   "id": "5d8f8502",
   "metadata": {
    "execution": {
     "iopub.execute_input": "2022-05-10T22:49:16.375211Z",
     "iopub.status.busy": "2022-05-10T22:49:16.374834Z",
     "iopub.status.idle": "2022-05-10T22:49:35.655742Z",
     "shell.execute_reply": "2022-05-10T22:49:35.654754Z"
    },
    "id": "0b9873c4",
    "outputId": "dc05bfac-f78a-49bb-e35d-f507b1ac918b",
    "papermill": {
     "duration": 19.303623,
     "end_time": "2022-05-10T22:49:35.657850",
     "exception": false,
     "start_time": "2022-05-10T22:49:16.354227",
     "status": "completed"
    },
    "tags": []
   },
   "outputs": [
    {
     "name": "stdout",
     "output_type": "stream",
     "text": [
      "Requirement already satisfied: transformers in /opt/conda/lib/python3.7/site-packages (4.17.0)\r\n",
      "Requirement already satisfied: huggingface-hub<1.0,>=0.1.0 in /opt/conda/lib/python3.7/site-packages (from transformers) (0.5.1)\r\n",
      "Requirement already satisfied: pyyaml>=5.1 in /opt/conda/lib/python3.7/site-packages (from transformers) (6.0)\r\n",
      "Requirement already satisfied: packaging>=20.0 in /opt/conda/lib/python3.7/site-packages (from transformers) (21.3)\r\n",
      "Requirement already satisfied: requests in /opt/conda/lib/python3.7/site-packages (from transformers) (2.27.1)\r\n",
      "Requirement already satisfied: numpy>=1.17 in /opt/conda/lib/python3.7/site-packages (from transformers) (1.21.5)\r\n",
      "Requirement already satisfied: tokenizers!=0.11.3,>=0.11.1 in /opt/conda/lib/python3.7/site-packages (from transformers) (0.11.6)\r\n",
      "Requirement already satisfied: sacremoses in /opt/conda/lib/python3.7/site-packages (from transformers) (0.0.49)\r\n",
      "Requirement already satisfied: tqdm>=4.27 in /opt/conda/lib/python3.7/site-packages (from transformers) (4.63.0)\r\n",
      "Requirement already satisfied: regex!=2019.12.17 in /opt/conda/lib/python3.7/site-packages (from transformers) (2021.11.10)\r\n",
      "Requirement already satisfied: filelock in /opt/conda/lib/python3.7/site-packages (from transformers) (3.6.0)\r\n",
      "Requirement already satisfied: importlib-metadata in /opt/conda/lib/python3.7/site-packages (from transformers) (4.11.3)\r\n",
      "Requirement already satisfied: typing-extensions>=3.7.4.3 in /opt/conda/lib/python3.7/site-packages (from huggingface-hub<1.0,>=0.1.0->transformers) (4.1.1)\r\n",
      "Requirement already satisfied: pyparsing!=3.0.5,>=2.0.2 in /opt/conda/lib/python3.7/site-packages (from packaging>=20.0->transformers) (3.0.7)\r\n",
      "Requirement already satisfied: zipp>=0.5 in /opt/conda/lib/python3.7/site-packages (from importlib-metadata->transformers) (3.7.0)\r\n",
      "Requirement already satisfied: certifi>=2017.4.17 in /opt/conda/lib/python3.7/site-packages (from requests->transformers) (2021.10.8)\r\n",
      "Requirement already satisfied: idna<4,>=2.5 in /opt/conda/lib/python3.7/site-packages (from requests->transformers) (3.3)\r\n",
      "Requirement already satisfied: urllib3<1.27,>=1.21.1 in /opt/conda/lib/python3.7/site-packages (from requests->transformers) (1.26.8)\r\n",
      "Requirement already satisfied: charset-normalizer~=2.0.0 in /opt/conda/lib/python3.7/site-packages (from requests->transformers) (2.0.12)\r\n",
      "Requirement already satisfied: click in /opt/conda/lib/python3.7/site-packages (from sacremoses->transformers) (8.0.4)\r\n",
      "Requirement already satisfied: six in /opt/conda/lib/python3.7/site-packages (from sacremoses->transformers) (1.16.0)\r\n",
      "Requirement already satisfied: joblib in /opt/conda/lib/python3.7/site-packages (from sacremoses->transformers) (1.0.1)\r\n",
      "\u001b[33mWARNING: Running pip as the 'root' user can result in broken permissions and conflicting behaviour with the system package manager. It is recommended to use a virtual environment instead: https://pip.pypa.io/warnings/venv\u001b[0m\u001b[33m\r\n",
      "\u001b[0mPython version\n",
      "3.7.12 | packaged by conda-forge | (default, Oct 26 2021, 06:08:53) \n",
      "[GCC 9.4.0]\n",
      "Version info.\n",
      "sys.version_info(major=3, minor=7, micro=12, releaselevel='final', serial=0)\n"
     ]
    }
   ],
   "source": [
    "!pip install transformers\n",
    "\n",
    "import os\n",
    "import pandas as pd\n",
    "import gensim \n",
    "import numpy as np\n",
    "import keras\n",
    "import transformers\n",
    "import tensorflow as tf\n",
    "from transformers import BertModel, TFBertModel\n",
    "from gensim.models import KeyedVectors\n",
    "from gensim.parsing.preprocessing import remove_stopwords\n",
    "from keras import layers\n",
    "from keras import optimizers\n",
    "embedding_size = 300\n",
    "max_words = 5000\n",
    "max_review_length = 70\n",
    "prop_val = 0.2  \n",
    "data = pd.read_csv('../input/emotion-detection-from-text/tweet_emotions.csv', on_bad_lines='skip')\n",
    "import sys\n",
    "print(\"Python version\")\n",
    "print (sys.version)\n",
    "print(\"Version info.\")\n",
    "print (sys.version_info)"
   ]
  },
  {
   "cell_type": "code",
   "execution_count": 2,
   "id": "d3f7e28a",
   "metadata": {
    "execution": {
     "iopub.execute_input": "2022-05-10T22:49:35.700908Z",
     "iopub.status.busy": "2022-05-10T22:49:35.700694Z",
     "iopub.status.idle": "2022-05-10T22:49:35.760675Z",
     "shell.execute_reply": "2022-05-10T22:49:35.759916Z"
    },
    "id": "eda593a3",
    "papermill": {
     "duration": 0.083136,
     "end_time": "2022-05-10T22:49:35.762500",
     "exception": false,
     "start_time": "2022-05-10T22:49:35.679364",
     "status": "completed"
    },
    "tags": []
   },
   "outputs": [],
   "source": [
    "data = data[data[\"sentiment\"] != \"empty\"];\n",
    "data = data[data[\"sentiment\"] != \"neutral\"];\n",
    "data = data[data[\"sentiment\"] != \"surprise\"];\n",
    "data = data[data[\"sentiment\"] != \"fun\"];\n",
    "data = data[data[\"sentiment\"] != \"hate\"];\n",
    "data = data[data[\"sentiment\"] != \"boredom\"];\n",
    "data = data[data[\"sentiment\"] != \"relief\"];\n",
    "data = data[data[\"sentiment\"] != \"anger\"];"
   ]
  },
  {
   "cell_type": "code",
   "execution_count": 3,
   "id": "be300257",
   "metadata": {
    "execution": {
     "iopub.execute_input": "2022-05-10T22:49:35.803732Z",
     "iopub.status.busy": "2022-05-10T22:49:35.803499Z",
     "iopub.status.idle": "2022-05-10T22:49:35.812786Z",
     "shell.execute_reply": "2022-05-10T22:49:35.811666Z"
    },
    "id": "318b022c",
    "outputId": "2330188e-9fe8-4af5-b9fc-9b19db144588",
    "papermill": {
     "duration": 0.033029,
     "end_time": "2022-05-10T22:49:35.814889",
     "exception": false,
     "start_time": "2022-05-10T22:49:35.781860",
     "status": "completed"
    },
    "tags": []
   },
   "outputs": [
    {
     "name": "stdout",
     "output_type": "stream",
     "text": [
      "['sadness', 'enthusiasm', 'worry', 'love', 'happiness']\n"
     ]
    }
   ],
   "source": [
    "\n",
    "print(data.sentiment.unique().tolist())"
   ]
  },
  {
   "cell_type": "code",
   "execution_count": 4,
   "id": "9136ec27",
   "metadata": {
    "execution": {
     "iopub.execute_input": "2022-05-10T22:49:35.856880Z",
     "iopub.status.busy": "2022-05-10T22:49:35.856302Z",
     "iopub.status.idle": "2022-05-10T22:50:02.177877Z",
     "shell.execute_reply": "2022-05-10T22:50:02.176874Z"
    },
    "id": "039fe136",
    "outputId": "36457c5b-b7be-4484-8c1c-2809f1cc767a",
    "papermill": {
     "duration": 26.344838,
     "end_time": "2022-05-10T22:50:02.180158",
     "exception": false,
     "start_time": "2022-05-10T22:49:35.835320",
     "status": "completed"
    },
    "tags": []
   },
   "outputs": [
    {
     "name": "stdout",
     "output_type": "stream",
     "text": [
      "23434\n"
     ]
    },
    {
     "data": {
      "application/vnd.jupyter.widget-view+json": {
       "model_id": "68c1a02558d1450a86de9b2ccfb2b93c",
       "version_major": 2,
       "version_minor": 0
      },
      "text/plain": [
       "Downloading:   0%|          | 0.00/226k [00:00<?, ?B/s]"
      ]
     },
     "metadata": {},
     "output_type": "display_data"
    },
    {
     "data": {
      "application/vnd.jupyter.widget-view+json": {
       "model_id": "83e0ffe89fb24942bf9d881dbf0149ba",
       "version_major": 2,
       "version_minor": 0
      },
      "text/plain": [
       "Downloading:   0%|          | 0.00/28.0 [00:00<?, ?B/s]"
      ]
     },
     "metadata": {},
     "output_type": "display_data"
    },
    {
     "data": {
      "application/vnd.jupyter.widget-view+json": {
       "model_id": "947f234c456748ea98b0acef2eacec31",
       "version_major": 2,
       "version_minor": 0
      },
      "text/plain": [
       "Downloading:   0%|          | 0.00/570 [00:00<?, ?B/s]"
      ]
     },
     "metadata": {},
     "output_type": "display_data"
    },
    {
     "data": {
      "application/vnd.jupyter.widget-view+json": {
       "model_id": "235b6161dd594f79849ed511aff28275",
       "version_major": 2,
       "version_minor": 0
      },
      "text/plain": [
       "Downloading:   0%|          | 0.00/511M [00:00<?, ?B/s]"
      ]
     },
     "metadata": {},
     "output_type": "display_data"
    },
    {
     "name": "stderr",
     "output_type": "stream",
     "text": [
      "2022-05-10 22:49:54.862403: I tensorflow/stream_executor/cuda/cuda_gpu_executor.cc:937] successful NUMA node read from SysFS had negative value (-1), but there must be at least one NUMA node, so returning NUMA node zero\n",
      "2022-05-10 22:49:54.863502: I tensorflow/stream_executor/cuda/cuda_gpu_executor.cc:937] successful NUMA node read from SysFS had negative value (-1), but there must be at least one NUMA node, so returning NUMA node zero\n",
      "2022-05-10 22:49:54.864153: I tensorflow/stream_executor/cuda/cuda_gpu_executor.cc:937] successful NUMA node read from SysFS had negative value (-1), but there must be at least one NUMA node, so returning NUMA node zero\n",
      "2022-05-10 22:49:54.865057: I tensorflow/core/platform/cpu_feature_guard.cc:142] This TensorFlow binary is optimized with oneAPI Deep Neural Network Library (oneDNN) to use the following CPU instructions in performance-critical operations:  AVX2 AVX512F FMA\n",
      "To enable them in other operations, rebuild TensorFlow with the appropriate compiler flags.\n",
      "2022-05-10 22:49:54.865341: I tensorflow/stream_executor/cuda/cuda_gpu_executor.cc:937] successful NUMA node read from SysFS had negative value (-1), but there must be at least one NUMA node, so returning NUMA node zero\n",
      "2022-05-10 22:49:54.866011: I tensorflow/stream_executor/cuda/cuda_gpu_executor.cc:937] successful NUMA node read from SysFS had negative value (-1), but there must be at least one NUMA node, so returning NUMA node zero\n",
      "2022-05-10 22:49:54.866646: I tensorflow/stream_executor/cuda/cuda_gpu_executor.cc:937] successful NUMA node read from SysFS had negative value (-1), but there must be at least one NUMA node, so returning NUMA node zero\n",
      "2022-05-10 22:49:59.631542: I tensorflow/stream_executor/cuda/cuda_gpu_executor.cc:937] successful NUMA node read from SysFS had negative value (-1), but there must be at least one NUMA node, so returning NUMA node zero\n",
      "2022-05-10 22:49:59.632379: I tensorflow/stream_executor/cuda/cuda_gpu_executor.cc:937] successful NUMA node read from SysFS had negative value (-1), but there must be at least one NUMA node, so returning NUMA node zero\n",
      "2022-05-10 22:49:59.633040: I tensorflow/stream_executor/cuda/cuda_gpu_executor.cc:937] successful NUMA node read from SysFS had negative value (-1), but there must be at least one NUMA node, so returning NUMA node zero\n",
      "2022-05-10 22:49:59.634307: I tensorflow/core/common_runtime/gpu/gpu_device.cc:1510] Created device /job:localhost/replica:0/task:0/device:GPU:0 with 14969 MB memory:  -> device: 0, name: Tesla P100-PCIE-16GB, pci bus id: 0000:00:04.0, compute capability: 6.0\n",
      "Some layers from the model checkpoint at bert-base-uncased were not used when initializing TFBertModel: ['nsp___cls', 'mlm___cls']\n",
      "- This IS expected if you are initializing TFBertModel from the checkpoint of a model trained on another task or with another architecture (e.g. initializing a BertForSequenceClassification model from a BertForPreTraining model).\n",
      "- This IS NOT expected if you are initializing TFBertModel from the checkpoint of a model that you expect to be exactly identical (initializing a BertForSequenceClassification model from a BertForSequenceClassification model).\n",
      "All the layers of TFBertModel were initialized from the model checkpoint at bert-base-uncased.\n",
      "If your task is similar to the task the model of the checkpoint was trained on, you can already use TFBertModel for predictions without further training.\n"
     ]
    }
   ],
   "source": [
    "totalRows = len(data.tweet_id)\n",
    "print(totalRows)\n",
    "from transformers import BertTokenizer, TFBertModel\n",
    "tokenizer = BertTokenizer.from_pretrained('bert-base-uncased')\n",
    "transformer_model = TFBertModel.from_pretrained(\"bert-base-uncased\")"
   ]
  },
  {
   "cell_type": "markdown",
   "id": "3f4ba128",
   "metadata": {
    "id": "t7x1LfggcvaM",
    "papermill": {
     "duration": 0.021115,
     "end_time": "2022-05-10T22:50:02.224467",
     "exception": false,
     "start_time": "2022-05-10T22:50:02.203352",
     "status": "completed"
    },
    "tags": []
   },
   "source": []
  },
  {
   "cell_type": "code",
   "execution_count": 5,
   "id": "6d63f414",
   "metadata": {
    "execution": {
     "iopub.execute_input": "2022-05-10T22:50:02.270740Z",
     "iopub.status.busy": "2022-05-10T22:50:02.270514Z",
     "iopub.status.idle": "2022-05-10T22:50:03.896671Z",
     "shell.execute_reply": "2022-05-10T22:50:03.895904Z"
    },
    "id": "aff1c6ea",
    "outputId": "bd6a4de6-dcdb-4a3d-df78-6a386c1ef2ae",
    "papermill": {
     "duration": 1.651514,
     "end_time": "2022-05-10T22:50:03.899557",
     "exception": false,
     "start_time": "2022-05-10T22:50:02.248043",
     "status": "completed"
    },
    "tags": []
   },
   "outputs": [
    {
     "name": "stdout",
     "output_type": "stream",
     "text": [
      "[CLS] Layin n bed headache ughhhh...waitin call...[SEP]\n"
     ]
    }
   ],
   "source": [
    "with tf.device(\"/device:GPU:0\"):    \n",
    "\n",
    "\n",
    "    import re\n",
    "    sentiment = []\n",
    "    tweet = []\n",
    "\n",
    "\n",
    "    for i in range(totalRows):\n",
    "        tweet_bert = data.iloc[i, 2]\n",
    "        tweet_bert = remove_stopwords(tweet_bert)\n",
    "        tweet_bert = re.sub('@[\\w]+','',tweet_bert)\n",
    "        tweet_bert = re.sub('=+','',tweet_bert)\n",
    "        tweet_bert = re.sub('[^a-zA-Z0-9 \\n\\.]', '', tweet_bert)\n",
    "        tweet_bert = str(\"[CLS] \" + tweet_bert + \"[SEP]\" ) \n",
    "        tweet.append(tweet_bert)\n",
    "        sentiment.append(data.iloc[i, 1])\n",
    "    print(tweet[0])\n",
    "\n",
    "\n",
    "\n",
    "  \n",
    "      \n",
    "        \n",
    "        \n",
    "\n",
    "\n",
    "    #for i in range(totalRows):\n",
    "      #tokens = tokenizer.tokenize(tweet[i])  \n",
    "\n",
    "np.random.seed(2)\n",
    "np.random.shuffle(tweet)\n",
    "np.random.seed(2)\n",
    "np.random.shuffle(sentiment)\n",
    "\n",
    "\n",
    "\n"
   ]
  },
  {
   "cell_type": "code",
   "execution_count": 6,
   "id": "a103e0bf",
   "metadata": {
    "execution": {
     "iopub.execute_input": "2022-05-10T22:50:03.944322Z",
     "iopub.status.busy": "2022-05-10T22:50:03.944115Z",
     "iopub.status.idle": "2022-05-10T22:50:04.113511Z",
     "shell.execute_reply": "2022-05-10T22:50:04.112786Z"
    },
    "id": "87218850",
    "outputId": "9afabf88-9ecf-4f5a-f470-064754eb6e66",
    "papermill": {
     "duration": 0.193652,
     "end_time": "2022-05-10T22:50:04.115658",
     "exception": false,
     "start_time": "2022-05-10T22:50:03.922006",
     "status": "completed"
    },
    "tags": []
   },
   "outputs": [
    {
     "name": "stdout",
     "output_type": "stream",
     "text": [
      "[[0 0 0 0 1]\n",
      " [0 0 0 0 1]\n",
      " [0 0 1 0 0]\n",
      " ...\n",
      " [0 0 1 0 0]\n",
      " [0 0 1 0 0]\n",
      " [0 0 0 0 1]]\n"
     ]
    }
   ],
   "source": [
    "from tensorflow.keras.utils import to_categorical\n",
    "\n",
    "from sklearn.preprocessing import LabelBinarizer\n",
    "encoder = LabelBinarizer()\n",
    "sentiment = encoder.fit_transform(sentiment)\n",
    "print(sentiment)"
   ]
  },
  {
   "cell_type": "code",
   "execution_count": 7,
   "id": "8a5cc276",
   "metadata": {
    "execution": {
     "iopub.execute_input": "2022-05-10T22:50:04.161240Z",
     "iopub.status.busy": "2022-05-10T22:50:04.160694Z",
     "iopub.status.idle": "2022-05-10T22:50:04.169337Z",
     "shell.execute_reply": "2022-05-10T22:50:04.168662Z"
    },
    "id": "cec1f79d",
    "papermill": {
     "duration": 0.033376,
     "end_time": "2022-05-10T22:50:04.171023",
     "exception": false,
     "start_time": "2022-05-10T22:50:04.137647",
     "status": "completed"
    },
    "tags": []
   },
   "outputs": [],
   "source": [
    "def getModel():\n",
    "\n",
    "  from tensorflow.keras import regularizers\n",
    "\n",
    "  input_ids = tf.keras.layers.Input(shape=(max_review_length,), name='input_token', dtype='int32')\n",
    "  attention_mask = tf.keras.layers.Input(shape=(max_review_length,), name='attention_token', dtype='int32')\n",
    "  token_type_ids = tf.keras.layers.Input(shape=(max_review_length,), name='token_type_ids_token', dtype='int32')\n",
    "\n",
    "  x = transformer_model(input_ids, attention_mask)[0]\n",
    "  x = tf.keras.layers.Flatten()(x)\n",
    "  x = tf.keras.layers.Dropout(0.8)(x)\n",
    "  x = tf.keras.layers.Dense(64, bias_regularizer=regularizers.L2(1e-1))(x)\n",
    "  x = tf.keras.layers.Dropout(0.8)(x)\n",
    "  x = tf.keras.layers.Dense(5,activation='softmax')(x)\n",
    "\n",
    "\n",
    "  model = tf.keras.Model(inputs=[input_ids, attention_mask, token_type_ids], outputs = x)   \n",
    "\n",
    "  model.summary()\n",
    "  import tensorflow_addons as tfa\n",
    "  model.compile(loss='CategoricalCrossentropy', optimizer=tf.keras.optimizers.Adam(lr=0.00005), metrics=['acc'])\n",
    "  my_callbacks = [tf.keras.callbacks.EarlyStopping(patience=4)]\n",
    "  return model\n",
    "\n"
   ]
  },
  {
   "cell_type": "code",
   "execution_count": 8,
   "id": "337e0e54",
   "metadata": {
    "execution": {
     "iopub.execute_input": "2022-05-10T22:50:04.216385Z",
     "iopub.status.busy": "2022-05-10T22:50:04.215826Z",
     "iopub.status.idle": "2022-05-10T23:02:08.916521Z",
     "shell.execute_reply": "2022-05-10T23:02:08.915662Z"
    },
    "id": "e623ba5f",
    "outputId": "befc4e5c-b789-4e26-80a6-7b8862b785cd",
    "papermill": {
     "duration": 724.726274,
     "end_time": "2022-05-10T23:02:08.918977",
     "exception": false,
     "start_time": "2022-05-10T22:50:04.192703",
     "status": "completed"
    },
    "tags": []
   },
   "outputs": [
    {
     "name": "stdout",
     "output_type": "stream",
     "text": [
      "Requirement already satisfied: tensorflow-addons in /opt/conda/lib/python3.7/site-packages (0.14.0)\r\n",
      "Requirement already satisfied: typeguard>=2.7 in /opt/conda/lib/python3.7/site-packages (from tensorflow-addons) (2.13.3)\r\n",
      "\u001b[33mWARNING: Running pip as the 'root' user can result in broken permissions and conflicting behaviour with the system package manager. It is recommended to use a virtual environment instead: https://pip.pypa.io/warnings/venv\u001b[0m\u001b[33m\r\n",
      "\u001b[0mModel: \"model\"\n",
      "__________________________________________________________________________________________________\n",
      "Layer (type)                    Output Shape         Param #     Connected to                     \n",
      "==================================================================================================\n",
      "input_token (InputLayer)        [(None, 70)]         0                                            \n",
      "__________________________________________________________________________________________________\n",
      "attention_token (InputLayer)    [(None, 70)]         0                                            \n",
      "__________________________________________________________________________________________________\n",
      "tf_bert_model (TFBertModel)     TFBaseModelOutputWit 109482240   input_token[0][0]                \n",
      "                                                                 attention_token[0][0]            \n",
      "__________________________________________________________________________________________________\n",
      "flatten (Flatten)               (None, 53760)        0           tf_bert_model[0][0]              \n",
      "__________________________________________________________________________________________________\n",
      "dropout_37 (Dropout)            (None, 53760)        0           flatten[0][0]                    \n",
      "__________________________________________________________________________________________________\n",
      "dense (Dense)                   (None, 64)           3440704     dropout_37[0][0]                 \n",
      "__________________________________________________________________________________________________\n",
      "dropout_38 (Dropout)            (None, 64)           0           dense[0][0]                      \n",
      "__________________________________________________________________________________________________\n",
      "token_type_ids_token (InputLaye [(None, 70)]         0                                            \n",
      "__________________________________________________________________________________________________\n",
      "dense_1 (Dense)                 (None, 5)            325         dropout_38[0][0]                 \n",
      "==================================================================================================\n",
      "Total params: 112,923,269\n",
      "Trainable params: 112,923,269\n",
      "Non-trainable params: 0\n",
      "__________________________________________________________________________________________________\n",
      "Epoch 1/4\n"
     ]
    },
    {
     "name": "stderr",
     "output_type": "stream",
     "text": [
      "/opt/conda/lib/python3.7/site-packages/keras/optimizer_v2/optimizer_v2.py:356: UserWarning: The `lr` argument is deprecated, use `learning_rate` instead.\n",
      "  \"The `lr` argument is deprecated, use `learning_rate` instead.\")\n",
      "2022-05-10 22:50:33.275838: I tensorflow/compiler/mlir/mlir_graph_optimization_pass.cc:185] None of the MLIR Optimization Passes are enabled (registered 2)\n"
     ]
    },
    {
     "name": "stdout",
     "output_type": "stream",
     "text": [
      "293/293 [==============================] - 174s 548ms/step - loss: 2.6683 - acc: 0.3184 - val_loss: 1.2438 - val_acc: 0.4987\n",
      "Epoch 2/4\n",
      "293/293 [==============================] - 158s 538ms/step - loss: 1.8892 - acc: 0.4023 - val_loss: 1.2324 - val_acc: 0.5158\n",
      "Epoch 3/4\n",
      "293/293 [==============================] - 157s 537ms/step - loss: 1.5892 - acc: 0.4498 - val_loss: 1.1837 - val_acc: 0.5230\n",
      "Epoch 4/4\n",
      "293/293 [==============================] - 157s 537ms/step - loss: 1.3731 - acc: 0.5031 - val_loss: 1.2946 - val_acc: 0.5019\n"
     ]
    }
   ],
   "source": [
    "\n",
    "x_train = tweet[100:]\n",
    "from transformers import BertTokenizer, TFBertModel\n",
    "tokenizer = BertTokenizer.from_pretrained('bert-base-uncased')\n",
    "!pip install tensorflow-addons\n",
    "import tensorflow_addons as tfa\n",
    "\n",
    "with tf.device('/device:GPU:0'):\n",
    "  len_val = int(len(tweet) * prop_val)\n",
    "  x_train = tweet[len_val:]\n",
    "  y_train = np.array(sentiment[len_val:])\n",
    "\n",
    "  x_val = tweet[:len_val]\n",
    "  y_val = np.array(sentiment[:len_val])\n",
    "\n",
    "  x_train_tokenised = tokenizer(x_train, padding='max_length', max_length=max_review_length, truncation=True, return_tensors='tf')\n",
    "  x_val_tokenised = tokenizer(x_val, padding='max_length', max_length=max_review_length, truncation=True, return_tensors='tf')\n",
    "\n",
    " \n",
    "  x_train_inputs_ids = x_train_tokenised['input_ids']\n",
    "  x_train_mask = x_train_tokenised['attention_mask']\n",
    "  x_train_tokens = x_train_tokenised['token_type_ids']\n",
    "\n",
    "  x_val_inputs_ids = x_val_tokenised['input_ids']\n",
    "  x_val_mask = x_val_tokenised['attention_mask']\n",
    "  x_val_tokens = x_val_tokenised['token_type_ids']\n",
    "    \n",
    "\n",
    "  network = getModel()\n",
    "\n",
    "  hist = network.fit((x_train_inputs_ids, x_train_mask, x_train_tokens), \n",
    "      y_train, epochs=4, batch_size=64, \n",
    "      validation_data=((x_val_inputs_ids, x_val_mask, x_val_tokens),y_val))\n",
    "        \n",
    "  mae_hist = hist.history['acc']\n",
    "  \n",
    "\n",
    "\n"
   ]
  },
  {
   "cell_type": "raw",
   "id": "fe1b2479",
   "metadata": {
    "execution": {
     "iopub.execute_input": "2022-04-25T12:52:46.860057Z",
     "iopub.status.busy": "2022-04-25T12:52:46.859762Z",
     "iopub.status.idle": "2022-04-25T12:53:21.758305Z",
     "shell.execute_reply": "2022-04-25T12:53:21.75764Z",
     "shell.execute_reply.started": "2022-04-25T12:52:46.860027Z"
    },
    "id": "G9ImoJyejWp3",
    "papermill": {
     "duration": 0.425161,
     "end_time": "2022-05-10T23:02:09.774779",
     "exception": false,
     "start_time": "2022-05-10T23:02:09.349618",
     "status": "completed"
    },
    "tags": []
   },
   "source": []
  },
  {
   "cell_type": "code",
   "execution_count": 9,
   "id": "b185bff9",
   "metadata": {
    "execution": {
     "iopub.execute_input": "2022-05-10T23:02:10.627465Z",
     "iopub.status.busy": "2022-05-10T23:02:10.627189Z",
     "iopub.status.idle": "2022-05-10T23:03:19.982895Z",
     "shell.execute_reply": "2022-05-10T23:03:19.982030Z"
    },
    "id": "Fn36KcjPjmx0",
    "papermill": {
     "duration": 70.208646,
     "end_time": "2022-05-10T23:03:20.407947",
     "exception": false,
     "start_time": "2022-05-10T23:02:10.199301",
     "status": "completed"
    },
    "tags": []
   },
   "outputs": [
    {
     "name": "stderr",
     "output_type": "stream",
     "text": [
      "2022-05-10 23:02:24.831157: W tensorflow/python/util/util.cc:348] Sets are not currently considered sequences, but this may change in the future, so consider avoiding using them.\n"
     ]
    },
    {
     "name": "stdout",
     "output_type": "stream",
     "text": [
      "['worry' 'worry' 'happiness' ... 'happiness' 'worry' 'worry']\n"
     ]
    }
   ],
   "source": [
    "network.save(\"bertModelReduced\")\n",
    "import sklearn\n",
    "class_names = ['sadness', 'worry', 'surprise', 'love', 'fun', 'hate', 'happiness']\n",
    "y_predict = network.predict((x_val_inputs_ids, x_val_mask, x_val_tokens))\n",
    "print(encoder.inverse_transform(y_predict))"
   ]
  },
  {
   "cell_type": "code",
   "execution_count": null,
   "id": "d1a995fc",
   "metadata": {
    "id": "k6ah8EH9SG5K",
    "papermill": {
     "duration": 0.425989,
     "end_time": "2022-05-10T23:03:21.259208",
     "exception": false,
     "start_time": "2022-05-10T23:03:20.833219",
     "status": "completed"
    },
    "tags": []
   },
   "outputs": [],
   "source": []
  },
  {
   "cell_type": "code",
   "execution_count": null,
   "id": "e415285b",
   "metadata": {
    "execution": {
     "iopub.execute_input": "2022-05-10T22:48:32.841437Z",
     "iopub.status.busy": "2022-05-10T22:48:32.841170Z",
     "iopub.status.idle": "2022-05-10T22:48:32.865856Z",
     "shell.execute_reply": "2022-05-10T22:48:32.864884Z",
     "shell.execute_reply.started": "2022-05-10T22:48:32.841402Z"
    },
    "id": "zNBmm0VTRrmT",
    "papermill": {
     "duration": 0.73595,
     "end_time": "2022-05-10T23:03:22.603846",
     "exception": false,
     "start_time": "2022-05-10T23:03:21.867896",
     "status": "completed"
    },
    "tags": []
   },
   "outputs": [],
   "source": []
  },
  {
   "cell_type": "code",
   "execution_count": null,
   "id": "eb850f6b",
   "metadata": {
    "id": "qKK7uejuDXur",
    "papermill": {
     "duration": 0.426661,
     "end_time": "2022-05-10T23:03:23.573063",
     "exception": false,
     "start_time": "2022-05-10T23:03:23.146402",
     "status": "completed"
    },
    "tags": []
   },
   "outputs": [],
   "source": []
  },
  {
   "cell_type": "code",
   "execution_count": null,
   "id": "ff560fe6",
   "metadata": {
    "id": "WkXZygjFDH6v",
    "papermill": {
     "duration": 0.638173,
     "end_time": "2022-05-10T23:03:24.633809",
     "exception": false,
     "start_time": "2022-05-10T23:03:23.995636",
     "status": "completed"
    },
    "tags": []
   },
   "outputs": [],
   "source": []
  },
  {
   "cell_type": "code",
   "execution_count": 10,
   "id": "4c70daa4",
   "metadata": {
    "execution": {
     "iopub.execute_input": "2022-05-10T23:03:25.584945Z",
     "iopub.status.busy": "2022-05-10T23:03:25.584689Z",
     "iopub.status.idle": "2022-05-10T23:03:25.590882Z",
     "shell.execute_reply": "2022-05-10T23:03:25.590054Z"
    },
    "id": "2XANhASN2mzZ",
    "papermill": {
     "duration": 0.445483,
     "end_time": "2022-05-10T23:03:25.593268",
     "exception": false,
     "start_time": "2022-05-10T23:03:25.147785",
     "status": "completed"
    },
    "tags": []
   },
   "outputs": [],
   "source": [
    "def process(text):\n",
    "        import re\n",
    "        \n",
    "        from gensim.parsing.preprocessing import remove_stopwords, preprocess_string\n",
    "        text = remove_stopwords(text)\n",
    "        text = re.sub('@[\\w]+','',text)\n",
    "        text = re.sub('=+','',text)\n",
    "        text = re.sub('[^a-zA-Z0-9 \\n\\.]', '', text)\n",
    "        return text;\n",
    "\n"
   ]
  },
  {
   "cell_type": "markdown",
   "id": "c8cc2814",
   "metadata": {
    "id": "DHRrnAVt6AKK",
    "papermill": {
     "duration": 0.43106,
     "end_time": "2022-05-10T23:03:26.452041",
     "exception": false,
     "start_time": "2022-05-10T23:03:26.020981",
     "status": "completed"
    },
    "tags": []
   },
   "source": []
  },
  {
   "cell_type": "code",
   "execution_count": 11,
   "id": "e192e79c",
   "metadata": {
    "execution": {
     "iopub.execute_input": "2022-05-10T23:03:27.301572Z",
     "iopub.status.busy": "2022-05-10T23:03:27.301247Z",
     "iopub.status.idle": "2022-05-10T23:03:28.291787Z",
     "shell.execute_reply": "2022-05-10T23:03:28.290647Z"
    },
    "id": "54d10497",
    "papermill": {
     "duration": 1.417455,
     "end_time": "2022-05-10T23:03:28.293429",
     "exception": true,
     "start_time": "2022-05-10T23:03:26.875974",
     "status": "failed"
    },
    "tags": []
   },
   "outputs": [
    {
     "name": "stdout",
     "output_type": "stream",
     "text": [
      "(1, 70)\n"
     ]
    },
    {
     "ename": "NameError",
     "evalue": "name 'model' is not defined",
     "output_type": "error",
     "traceback": [
      "\u001b[0;31m---------------------------------------------------------------------------\u001b[0m",
      "\u001b[0;31mNameError\u001b[0m                                 Traceback (most recent call last)",
      "\u001b[0;32m/tmp/ipykernel_23/2182712477.py\u001b[0m in \u001b[0;36m<module>\u001b[0;34m\u001b[0m\n\u001b[1;32m     12\u001b[0m \u001b[0mmask\u001b[0m \u001b[0;34m=\u001b[0m\u001b[0mtext\u001b[0m\u001b[0;34m[\u001b[0m\u001b[0;34m'attention_mask'\u001b[0m\u001b[0;34m]\u001b[0m\u001b[0;34m\u001b[0m\u001b[0;34m\u001b[0m\u001b[0m\n\u001b[1;32m     13\u001b[0m \u001b[0;34m\u001b[0m\u001b[0m\n\u001b[0;32m---> 14\u001b[0;31m \u001b[0mprediction\u001b[0m \u001b[0;34m=\u001b[0m \u001b[0mmodel\u001b[0m\u001b[0;34m.\u001b[0m\u001b[0mpredict\u001b[0m\u001b[0;34m(\u001b[0m\u001b[0;34m(\u001b[0m\u001b[0mids\u001b[0m\u001b[0;34m,\u001b[0m \u001b[0mtoken\u001b[0m\u001b[0;34m,\u001b[0m \u001b[0mmask\u001b[0m\u001b[0;34m)\u001b[0m\u001b[0;34m)\u001b[0m\u001b[0;34m\u001b[0m\u001b[0;34m\u001b[0m\u001b[0m\n\u001b[0m\u001b[1;32m     15\u001b[0m \u001b[0;32mfrom\u001b[0m \u001b[0msklearn\u001b[0m \u001b[0;32mimport\u001b[0m \u001b[0mpreprocessing\u001b[0m\u001b[0;34m\u001b[0m\u001b[0;34m\u001b[0m\u001b[0m\n\u001b[1;32m     16\u001b[0m \u001b[0;34m\u001b[0m\u001b[0m\n",
      "\u001b[0;31mNameError\u001b[0m: name 'model' is not defined"
     ]
    }
   ],
   "source": [
    "\n",
    "import transformers\n",
    "import re\n",
    "from transformers import BertTokenizer, TFBertModel\n",
    "tokenizer = BertTokenizer.from_pretrained('bert-base-uncased')\n",
    "text = \"i cant stand my hero academia. how do people watch this crap\"\n",
    "text = process(text)\n",
    "text = str(\"[CLS] \" + text + \"[SEP]\" ) \n",
    "text = tokenizer(text, padding='max_length', max_length=max_review_length, truncation=True, return_tensors='tf')\n",
    "ids = text['input_ids']\n",
    "print (ids.shape)\n",
    "token = text['token_type_ids']\n",
    "mask =text['attention_mask']\n",
    "\n",
    "prediction = model.predict((ids, token, mask))\n",
    "from sklearn import preprocessing\n",
    "\n",
    "print(encoder.inverse_transform(prediction))"
   ]
  },
  {
   "cell_type": "code",
   "execution_count": null,
   "id": "ee156bb5",
   "metadata": {
    "id": "915597b8",
    "papermill": {
     "duration": null,
     "end_time": null,
     "exception": null,
     "start_time": null,
     "status": "pending"
    },
    "tags": []
   },
   "outputs": [],
   "source": []
  },
  {
   "cell_type": "code",
   "execution_count": null,
   "id": "5408b250",
   "metadata": {
    "id": "69573f98",
    "papermill": {
     "duration": null,
     "end_time": null,
     "exception": null,
     "start_time": null,
     "status": "pending"
    },
    "tags": []
   },
   "outputs": [],
   "source": []
  }
 ],
 "metadata": {
  "kernelspec": {
   "display_name": "Python 3",
   "language": "python",
   "name": "python3"
  },
  "language_info": {
   "codemirror_mode": {
    "name": "ipython",
    "version": 3
   },
   "file_extension": ".py",
   "mimetype": "text/x-python",
   "name": "python",
   "nbconvert_exporter": "python",
   "pygments_lexer": "ipython3",
   "version": "3.7.12"
  },
  "papermill": {
   "default_parameters": {},
   "duration": 864.859448,
   "end_time": "2022-05-10T23:03:32.392480",
   "environment_variables": {},
   "exception": true,
   "input_path": "__notebook__.ipynb",
   "output_path": "__notebook__.ipynb",
   "parameters": {},
   "start_time": "2022-05-10T22:49:07.533032",
   "version": "2.3.4"
  },
  "widgets": {
   "application/vnd.jupyter.widget-state+json": {
    "state": {
     "004d0fb3fffa45c89f832799dece38e6": {
      "model_module": "@jupyter-widgets/controls",
      "model_module_version": "1.5.0",
      "model_name": "DescriptionStyleModel",
      "state": {
       "_model_module": "@jupyter-widgets/controls",
       "_model_module_version": "1.5.0",
       "_model_name": "DescriptionStyleModel",
       "_view_count": null,
       "_view_module": "@jupyter-widgets/base",
       "_view_module_version": "1.2.0",
       "_view_name": "StyleView",
       "description_width": ""
      }
     },
     "0674e25b519242e6820fc5c507918ea1": {
      "model_module": "@jupyter-widgets/controls",
      "model_module_version": "1.5.0",
      "model_name": "FloatProgressModel",
      "state": {
       "_dom_classes": [],
       "_model_module": "@jupyter-widgets/controls",
       "_model_module_version": "1.5.0",
       "_model_name": "FloatProgressModel",
       "_view_count": null,
       "_view_module": "@jupyter-widgets/controls",
       "_view_module_version": "1.5.0",
       "_view_name": "ProgressView",
       "bar_style": "success",
       "description": "",
       "description_tooltip": null,
       "layout": "IPY_MODEL_3c18bee087e74f24958dc7658bd11024",
       "max": 28.0,
       "min": 0.0,
       "orientation": "horizontal",
       "style": "IPY_MODEL_e3304003fd14424b8084243622d4a671",
       "value": 28.0
      }
     },
     "1a82f8c24fe6417e86c5006a1cc5d62f": {
      "model_module": "@jupyter-widgets/controls",
      "model_module_version": "1.5.0",
      "model_name": "HTMLModel",
      "state": {
       "_dom_classes": [],
       "_model_module": "@jupyter-widgets/controls",
       "_model_module_version": "1.5.0",
       "_model_name": "HTMLModel",
       "_view_count": null,
       "_view_module": "@jupyter-widgets/controls",
       "_view_module_version": "1.5.0",
       "_view_name": "HTMLView",
       "description": "",
       "description_tooltip": null,
       "layout": "IPY_MODEL_3101e86806304106a7724738105e260a",
       "placeholder": "​",
       "style": "IPY_MODEL_84eb0986400643fd96ae13d4d64f0c15",
       "value": "Downloading: 100%"
      }
     },
     "1c580c1521bc4e2da4194dffc1f404e6": {
      "model_module": "@jupyter-widgets/controls",
      "model_module_version": "1.5.0",
      "model_name": "ProgressStyleModel",
      "state": {
       "_model_module": "@jupyter-widgets/controls",
       "_model_module_version": "1.5.0",
       "_model_name": "ProgressStyleModel",
       "_view_count": null,
       "_view_module": "@jupyter-widgets/base",
       "_view_module_version": "1.2.0",
       "_view_name": "StyleView",
       "bar_color": null,
       "description_width": ""
      }
     },
     "1c9dd655924d429f925ca6c116516d47": {
      "model_module": "@jupyter-widgets/base",
      "model_module_version": "1.2.0",
      "model_name": "LayoutModel",
      "state": {
       "_model_module": "@jupyter-widgets/base",
       "_model_module_version": "1.2.0",
       "_model_name": "LayoutModel",
       "_view_count": null,
       "_view_module": "@jupyter-widgets/base",
       "_view_module_version": "1.2.0",
       "_view_name": "LayoutView",
       "align_content": null,
       "align_items": null,
       "align_self": null,
       "border": null,
       "bottom": null,
       "display": null,
       "flex": null,
       "flex_flow": null,
       "grid_area": null,
       "grid_auto_columns": null,
       "grid_auto_flow": null,
       "grid_auto_rows": null,
       "grid_column": null,
       "grid_gap": null,
       "grid_row": null,
       "grid_template_areas": null,
       "grid_template_columns": null,
       "grid_template_rows": null,
       "height": null,
       "justify_content": null,
       "justify_items": null,
       "left": null,
       "margin": null,
       "max_height": null,
       "max_width": null,
       "min_height": null,
       "min_width": null,
       "object_fit": null,
       "object_position": null,
       "order": null,
       "overflow": null,
       "overflow_x": null,
       "overflow_y": null,
       "padding": null,
       "right": null,
       "top": null,
       "visibility": null,
       "width": null
      }
     },
     "1dfec6713fc340dd9c525cce9472cd16": {
      "model_module": "@jupyter-widgets/base",
      "model_module_version": "1.2.0",
      "model_name": "LayoutModel",
      "state": {
       "_model_module": "@jupyter-widgets/base",
       "_model_module_version": "1.2.0",
       "_model_name": "LayoutModel",
       "_view_count": null,
       "_view_module": "@jupyter-widgets/base",
       "_view_module_version": "1.2.0",
       "_view_name": "LayoutView",
       "align_content": null,
       "align_items": null,
       "align_self": null,
       "border": null,
       "bottom": null,
       "display": null,
       "flex": null,
       "flex_flow": null,
       "grid_area": null,
       "grid_auto_columns": null,
       "grid_auto_flow": null,
       "grid_auto_rows": null,
       "grid_column": null,
       "grid_gap": null,
       "grid_row": null,
       "grid_template_areas": null,
       "grid_template_columns": null,
       "grid_template_rows": null,
       "height": null,
       "justify_content": null,
       "justify_items": null,
       "left": null,
       "margin": null,
       "max_height": null,
       "max_width": null,
       "min_height": null,
       "min_width": null,
       "object_fit": null,
       "object_position": null,
       "order": null,
       "overflow": null,
       "overflow_x": null,
       "overflow_y": null,
       "padding": null,
       "right": null,
       "top": null,
       "visibility": null,
       "width": null
      }
     },
     "235b6161dd594f79849ed511aff28275": {
      "model_module": "@jupyter-widgets/controls",
      "model_module_version": "1.5.0",
      "model_name": "HBoxModel",
      "state": {
       "_dom_classes": [],
       "_model_module": "@jupyter-widgets/controls",
       "_model_module_version": "1.5.0",
       "_model_name": "HBoxModel",
       "_view_count": null,
       "_view_module": "@jupyter-widgets/controls",
       "_view_module_version": "1.5.0",
       "_view_name": "HBoxView",
       "box_style": "",
       "children": [
        "IPY_MODEL_573c94c3670f4e4ba79aa0bc4af1c557",
        "IPY_MODEL_c56ef854712c455c9226a3276ca8ea4d",
        "IPY_MODEL_b7fcb3eb8c184c1fb2b3d7e8d2dc3f23"
       ],
       "layout": "IPY_MODEL_1c9dd655924d429f925ca6c116516d47"
      }
     },
     "2a920b4ec32e4b66b367babe01aad410": {
      "model_module": "@jupyter-widgets/controls",
      "model_module_version": "1.5.0",
      "model_name": "HTMLModel",
      "state": {
       "_dom_classes": [],
       "_model_module": "@jupyter-widgets/controls",
       "_model_module_version": "1.5.0",
       "_model_name": "HTMLModel",
       "_view_count": null,
       "_view_module": "@jupyter-widgets/controls",
       "_view_module_version": "1.5.0",
       "_view_name": "HTMLView",
       "description": "",
       "description_tooltip": null,
       "layout": "IPY_MODEL_c90c5ada1d2c45249ef8a3e67ceea74b",
       "placeholder": "​",
       "style": "IPY_MODEL_4aa0f34bf05d499688cf1dc68fed4da8",
       "value": " 226k/226k [00:00&lt;00:00, 3.00MB/s]"
      }
     },
     "3101e86806304106a7724738105e260a": {
      "model_module": "@jupyter-widgets/base",
      "model_module_version": "1.2.0",
      "model_name": "LayoutModel",
      "state": {
       "_model_module": "@jupyter-widgets/base",
       "_model_module_version": "1.2.0",
       "_model_name": "LayoutModel",
       "_view_count": null,
       "_view_module": "@jupyter-widgets/base",
       "_view_module_version": "1.2.0",
       "_view_name": "LayoutView",
       "align_content": null,
       "align_items": null,
       "align_self": null,
       "border": null,
       "bottom": null,
       "display": null,
       "flex": null,
       "flex_flow": null,
       "grid_area": null,
       "grid_auto_columns": null,
       "grid_auto_flow": null,
       "grid_auto_rows": null,
       "grid_column": null,
       "grid_gap": null,
       "grid_row": null,
       "grid_template_areas": null,
       "grid_template_columns": null,
       "grid_template_rows": null,
       "height": null,
       "justify_content": null,
       "justify_items": null,
       "left": null,
       "margin": null,
       "max_height": null,
       "max_width": null,
       "min_height": null,
       "min_width": null,
       "object_fit": null,
       "object_position": null,
       "order": null,
       "overflow": null,
       "overflow_x": null,
       "overflow_y": null,
       "padding": null,
       "right": null,
       "top": null,
       "visibility": null,
       "width": null
      }
     },
     "34e2713e45f0404eae496df2216cad0f": {
      "model_module": "@jupyter-widgets/base",
      "model_module_version": "1.2.0",
      "model_name": "LayoutModel",
      "state": {
       "_model_module": "@jupyter-widgets/base",
       "_model_module_version": "1.2.0",
       "_model_name": "LayoutModel",
       "_view_count": null,
       "_view_module": "@jupyter-widgets/base",
       "_view_module_version": "1.2.0",
       "_view_name": "LayoutView",
       "align_content": null,
       "align_items": null,
       "align_self": null,
       "border": null,
       "bottom": null,
       "display": null,
       "flex": null,
       "flex_flow": null,
       "grid_area": null,
       "grid_auto_columns": null,
       "grid_auto_flow": null,
       "grid_auto_rows": null,
       "grid_column": null,
       "grid_gap": null,
       "grid_row": null,
       "grid_template_areas": null,
       "grid_template_columns": null,
       "grid_template_rows": null,
       "height": null,
       "justify_content": null,
       "justify_items": null,
       "left": null,
       "margin": null,
       "max_height": null,
       "max_width": null,
       "min_height": null,
       "min_width": null,
       "object_fit": null,
       "object_position": null,
       "order": null,
       "overflow": null,
       "overflow_x": null,
       "overflow_y": null,
       "padding": null,
       "right": null,
       "top": null,
       "visibility": null,
       "width": null
      }
     },
     "3a88e73eebc44b90b827beb14ad86bea": {
      "model_module": "@jupyter-widgets/base",
      "model_module_version": "1.2.0",
      "model_name": "LayoutModel",
      "state": {
       "_model_module": "@jupyter-widgets/base",
       "_model_module_version": "1.2.0",
       "_model_name": "LayoutModel",
       "_view_count": null,
       "_view_module": "@jupyter-widgets/base",
       "_view_module_version": "1.2.0",
       "_view_name": "LayoutView",
       "align_content": null,
       "align_items": null,
       "align_self": null,
       "border": null,
       "bottom": null,
       "display": null,
       "flex": null,
       "flex_flow": null,
       "grid_area": null,
       "grid_auto_columns": null,
       "grid_auto_flow": null,
       "grid_auto_rows": null,
       "grid_column": null,
       "grid_gap": null,
       "grid_row": null,
       "grid_template_areas": null,
       "grid_template_columns": null,
       "grid_template_rows": null,
       "height": null,
       "justify_content": null,
       "justify_items": null,
       "left": null,
       "margin": null,
       "max_height": null,
       "max_width": null,
       "min_height": null,
       "min_width": null,
       "object_fit": null,
       "object_position": null,
       "order": null,
       "overflow": null,
       "overflow_x": null,
       "overflow_y": null,
       "padding": null,
       "right": null,
       "top": null,
       "visibility": null,
       "width": null
      }
     },
     "3c18bee087e74f24958dc7658bd11024": {
      "model_module": "@jupyter-widgets/base",
      "model_module_version": "1.2.0",
      "model_name": "LayoutModel",
      "state": {
       "_model_module": "@jupyter-widgets/base",
       "_model_module_version": "1.2.0",
       "_model_name": "LayoutModel",
       "_view_count": null,
       "_view_module": "@jupyter-widgets/base",
       "_view_module_version": "1.2.0",
       "_view_name": "LayoutView",
       "align_content": null,
       "align_items": null,
       "align_self": null,
       "border": null,
       "bottom": null,
       "display": null,
       "flex": null,
       "flex_flow": null,
       "grid_area": null,
       "grid_auto_columns": null,
       "grid_auto_flow": null,
       "grid_auto_rows": null,
       "grid_column": null,
       "grid_gap": null,
       "grid_row": null,
       "grid_template_areas": null,
       "grid_template_columns": null,
       "grid_template_rows": null,
       "height": null,
       "justify_content": null,
       "justify_items": null,
       "left": null,
       "margin": null,
       "max_height": null,
       "max_width": null,
       "min_height": null,
       "min_width": null,
       "object_fit": null,
       "object_position": null,
       "order": null,
       "overflow": null,
       "overflow_x": null,
       "overflow_y": null,
       "padding": null,
       "right": null,
       "top": null,
       "visibility": null,
       "width": null
      }
     },
     "4295e8ec929e423b9757ead04c188997": {
      "model_module": "@jupyter-widgets/controls",
      "model_module_version": "1.5.0",
      "model_name": "HTMLModel",
      "state": {
       "_dom_classes": [],
       "_model_module": "@jupyter-widgets/controls",
       "_model_module_version": "1.5.0",
       "_model_name": "HTMLModel",
       "_view_count": null,
       "_view_module": "@jupyter-widgets/controls",
       "_view_module_version": "1.5.0",
       "_view_name": "HTMLView",
       "description": "",
       "description_tooltip": null,
       "layout": "IPY_MODEL_65bc4a205d27411f968f59f4e4522afe",
       "placeholder": "​",
       "style": "IPY_MODEL_004d0fb3fffa45c89f832799dece38e6",
       "value": "Downloading: 100%"
      }
     },
     "4aa0f34bf05d499688cf1dc68fed4da8": {
      "model_module": "@jupyter-widgets/controls",
      "model_module_version": "1.5.0",
      "model_name": "DescriptionStyleModel",
      "state": {
       "_model_module": "@jupyter-widgets/controls",
       "_model_module_version": "1.5.0",
       "_model_name": "DescriptionStyleModel",
       "_view_count": null,
       "_view_module": "@jupyter-widgets/base",
       "_view_module_version": "1.2.0",
       "_view_name": "StyleView",
       "description_width": ""
      }
     },
     "4d8c0c08f8d441f4bdf840fff794fc3f": {
      "model_module": "@jupyter-widgets/controls",
      "model_module_version": "1.5.0",
      "model_name": "DescriptionStyleModel",
      "state": {
       "_model_module": "@jupyter-widgets/controls",
       "_model_module_version": "1.5.0",
       "_model_name": "DescriptionStyleModel",
       "_view_count": null,
       "_view_module": "@jupyter-widgets/base",
       "_view_module_version": "1.2.0",
       "_view_name": "StyleView",
       "description_width": ""
      }
     },
     "53291b422d9d42bab0825b979b058206": {
      "model_module": "@jupyter-widgets/controls",
      "model_module_version": "1.5.0",
      "model_name": "DescriptionStyleModel",
      "state": {
       "_model_module": "@jupyter-widgets/controls",
       "_model_module_version": "1.5.0",
       "_model_name": "DescriptionStyleModel",
       "_view_count": null,
       "_view_module": "@jupyter-widgets/base",
       "_view_module_version": "1.2.0",
       "_view_name": "StyleView",
       "description_width": ""
      }
     },
     "573c94c3670f4e4ba79aa0bc4af1c557": {
      "model_module": "@jupyter-widgets/controls",
      "model_module_version": "1.5.0",
      "model_name": "HTMLModel",
      "state": {
       "_dom_classes": [],
       "_model_module": "@jupyter-widgets/controls",
       "_model_module_version": "1.5.0",
       "_model_name": "HTMLModel",
       "_view_count": null,
       "_view_module": "@jupyter-widgets/controls",
       "_view_module_version": "1.5.0",
       "_view_name": "HTMLView",
       "description": "",
       "description_tooltip": null,
       "layout": "IPY_MODEL_3a88e73eebc44b90b827beb14ad86bea",
       "placeholder": "​",
       "style": "IPY_MODEL_e2abb06313f1425e8fd882cc1187d0a7",
       "value": "Downloading: 100%"
      }
     },
     "5ee0370231bb4ab187606b07f414c2bf": {
      "model_module": "@jupyter-widgets/controls",
      "model_module_version": "1.5.0",
      "model_name": "FloatProgressModel",
      "state": {
       "_dom_classes": [],
       "_model_module": "@jupyter-widgets/controls",
       "_model_module_version": "1.5.0",
       "_model_name": "FloatProgressModel",
       "_view_count": null,
       "_view_module": "@jupyter-widgets/controls",
       "_view_module_version": "1.5.0",
       "_view_name": "ProgressView",
       "bar_style": "success",
       "description": "",
       "description_tooltip": null,
       "layout": "IPY_MODEL_6cdde530f23341e28c42f22e2060ec4a",
       "max": 570.0,
       "min": 0.0,
       "orientation": "horizontal",
       "style": "IPY_MODEL_a03d63fec3a54996b22c85ae4c02aeed",
       "value": 570.0
      }
     },
     "642f150d2acf465aa9b8e525ec7afe1e": {
      "model_module": "@jupyter-widgets/base",
      "model_module_version": "1.2.0",
      "model_name": "LayoutModel",
      "state": {
       "_model_module": "@jupyter-widgets/base",
       "_model_module_version": "1.2.0",
       "_model_name": "LayoutModel",
       "_view_count": null,
       "_view_module": "@jupyter-widgets/base",
       "_view_module_version": "1.2.0",
       "_view_name": "LayoutView",
       "align_content": null,
       "align_items": null,
       "align_self": null,
       "border": null,
       "bottom": null,
       "display": null,
       "flex": null,
       "flex_flow": null,
       "grid_area": null,
       "grid_auto_columns": null,
       "grid_auto_flow": null,
       "grid_auto_rows": null,
       "grid_column": null,
       "grid_gap": null,
       "grid_row": null,
       "grid_template_areas": null,
       "grid_template_columns": null,
       "grid_template_rows": null,
       "height": null,
       "justify_content": null,
       "justify_items": null,
       "left": null,
       "margin": null,
       "max_height": null,
       "max_width": null,
       "min_height": null,
       "min_width": null,
       "object_fit": null,
       "object_position": null,
       "order": null,
       "overflow": null,
       "overflow_x": null,
       "overflow_y": null,
       "padding": null,
       "right": null,
       "top": null,
       "visibility": null,
       "width": null
      }
     },
     "65bc4a205d27411f968f59f4e4522afe": {
      "model_module": "@jupyter-widgets/base",
      "model_module_version": "1.2.0",
      "model_name": "LayoutModel",
      "state": {
       "_model_module": "@jupyter-widgets/base",
       "_model_module_version": "1.2.0",
       "_model_name": "LayoutModel",
       "_view_count": null,
       "_view_module": "@jupyter-widgets/base",
       "_view_module_version": "1.2.0",
       "_view_name": "LayoutView",
       "align_content": null,
       "align_items": null,
       "align_self": null,
       "border": null,
       "bottom": null,
       "display": null,
       "flex": null,
       "flex_flow": null,
       "grid_area": null,
       "grid_auto_columns": null,
       "grid_auto_flow": null,
       "grid_auto_rows": null,
       "grid_column": null,
       "grid_gap": null,
       "grid_row": null,
       "grid_template_areas": null,
       "grid_template_columns": null,
       "grid_template_rows": null,
       "height": null,
       "justify_content": null,
       "justify_items": null,
       "left": null,
       "margin": null,
       "max_height": null,
       "max_width": null,
       "min_height": null,
       "min_width": null,
       "object_fit": null,
       "object_position": null,
       "order": null,
       "overflow": null,
       "overflow_x": null,
       "overflow_y": null,
       "padding": null,
       "right": null,
       "top": null,
       "visibility": null,
       "width": null
      }
     },
     "68c1a02558d1450a86de9b2ccfb2b93c": {
      "model_module": "@jupyter-widgets/controls",
      "model_module_version": "1.5.0",
      "model_name": "HBoxModel",
      "state": {
       "_dom_classes": [],
       "_model_module": "@jupyter-widgets/controls",
       "_model_module_version": "1.5.0",
       "_model_name": "HBoxModel",
       "_view_count": null,
       "_view_module": "@jupyter-widgets/controls",
       "_view_module_version": "1.5.0",
       "_view_name": "HBoxView",
       "box_style": "",
       "children": [
        "IPY_MODEL_4295e8ec929e423b9757ead04c188997",
        "IPY_MODEL_b49ada4d268649119eeb2dacc7ef100d",
        "IPY_MODEL_2a920b4ec32e4b66b367babe01aad410"
       ],
       "layout": "IPY_MODEL_8578e5ad3040496eb2cad531b7f54062"
      }
     },
     "6cdde530f23341e28c42f22e2060ec4a": {
      "model_module": "@jupyter-widgets/base",
      "model_module_version": "1.2.0",
      "model_name": "LayoutModel",
      "state": {
       "_model_module": "@jupyter-widgets/base",
       "_model_module_version": "1.2.0",
       "_model_name": "LayoutModel",
       "_view_count": null,
       "_view_module": "@jupyter-widgets/base",
       "_view_module_version": "1.2.0",
       "_view_name": "LayoutView",
       "align_content": null,
       "align_items": null,
       "align_self": null,
       "border": null,
       "bottom": null,
       "display": null,
       "flex": null,
       "flex_flow": null,
       "grid_area": null,
       "grid_auto_columns": null,
       "grid_auto_flow": null,
       "grid_auto_rows": null,
       "grid_column": null,
       "grid_gap": null,
       "grid_row": null,
       "grid_template_areas": null,
       "grid_template_columns": null,
       "grid_template_rows": null,
       "height": null,
       "justify_content": null,
       "justify_items": null,
       "left": null,
       "margin": null,
       "max_height": null,
       "max_width": null,
       "min_height": null,
       "min_width": null,
       "object_fit": null,
       "object_position": null,
       "order": null,
       "overflow": null,
       "overflow_x": null,
       "overflow_y": null,
       "padding": null,
       "right": null,
       "top": null,
       "visibility": null,
       "width": null
      }
     },
     "6f2ffbec63ac4e3a8314c7c4459936b7": {
      "model_module": "@jupyter-widgets/controls",
      "model_module_version": "1.5.0",
      "model_name": "DescriptionStyleModel",
      "state": {
       "_model_module": "@jupyter-widgets/controls",
       "_model_module_version": "1.5.0",
       "_model_name": "DescriptionStyleModel",
       "_view_count": null,
       "_view_module": "@jupyter-widgets/base",
       "_view_module_version": "1.2.0",
       "_view_name": "StyleView",
       "description_width": ""
      }
     },
     "6f77e9afd07b4df784030609e3d5947c": {
      "model_module": "@jupyter-widgets/controls",
      "model_module_version": "1.5.0",
      "model_name": "HTMLModel",
      "state": {
       "_dom_classes": [],
       "_model_module": "@jupyter-widgets/controls",
       "_model_module_version": "1.5.0",
       "_model_name": "HTMLModel",
       "_view_count": null,
       "_view_module": "@jupyter-widgets/controls",
       "_view_module_version": "1.5.0",
       "_view_name": "HTMLView",
       "description": "",
       "description_tooltip": null,
       "layout": "IPY_MODEL_bbff378a154049e793eca98df6b4af23",
       "placeholder": "​",
       "style": "IPY_MODEL_7a91354adc9949afbb0e505a532ceaf4",
       "value": " 570/570 [00:00&lt;00:00, 23.0kB/s]"
      }
     },
     "7a91354adc9949afbb0e505a532ceaf4": {
      "model_module": "@jupyter-widgets/controls",
      "model_module_version": "1.5.0",
      "model_name": "DescriptionStyleModel",
      "state": {
       "_model_module": "@jupyter-widgets/controls",
       "_model_module_version": "1.5.0",
       "_model_name": "DescriptionStyleModel",
       "_view_count": null,
       "_view_module": "@jupyter-widgets/base",
       "_view_module_version": "1.2.0",
       "_view_name": "StyleView",
       "description_width": ""
      }
     },
     "80d065582dca4a7da7dee23ddca3eff6": {
      "model_module": "@jupyter-widgets/controls",
      "model_module_version": "1.5.0",
      "model_name": "HTMLModel",
      "state": {
       "_dom_classes": [],
       "_model_module": "@jupyter-widgets/controls",
       "_model_module_version": "1.5.0",
       "_model_name": "HTMLModel",
       "_view_count": null,
       "_view_module": "@jupyter-widgets/controls",
       "_view_module_version": "1.5.0",
       "_view_name": "HTMLView",
       "description": "",
       "description_tooltip": null,
       "layout": "IPY_MODEL_98ef0880b890488ab250415d94dff26a",
       "placeholder": "​",
       "style": "IPY_MODEL_4d8c0c08f8d441f4bdf840fff794fc3f",
       "value": "Downloading: 100%"
      }
     },
     "83e0ffe89fb24942bf9d881dbf0149ba": {
      "model_module": "@jupyter-widgets/controls",
      "model_module_version": "1.5.0",
      "model_name": "HBoxModel",
      "state": {
       "_dom_classes": [],
       "_model_module": "@jupyter-widgets/controls",
       "_model_module_version": "1.5.0",
       "_model_name": "HBoxModel",
       "_view_count": null,
       "_view_module": "@jupyter-widgets/controls",
       "_view_module_version": "1.5.0",
       "_view_name": "HBoxView",
       "box_style": "",
       "children": [
        "IPY_MODEL_80d065582dca4a7da7dee23ddca3eff6",
        "IPY_MODEL_0674e25b519242e6820fc5c507918ea1",
        "IPY_MODEL_a850edd0ef4c4d27bf5a704658c08118"
       ],
       "layout": "IPY_MODEL_1dfec6713fc340dd9c525cce9472cd16"
      }
     },
     "84eb0986400643fd96ae13d4d64f0c15": {
      "model_module": "@jupyter-widgets/controls",
      "model_module_version": "1.5.0",
      "model_name": "DescriptionStyleModel",
      "state": {
       "_model_module": "@jupyter-widgets/controls",
       "_model_module_version": "1.5.0",
       "_model_name": "DescriptionStyleModel",
       "_view_count": null,
       "_view_module": "@jupyter-widgets/base",
       "_view_module_version": "1.2.0",
       "_view_name": "StyleView",
       "description_width": ""
      }
     },
     "8578e5ad3040496eb2cad531b7f54062": {
      "model_module": "@jupyter-widgets/base",
      "model_module_version": "1.2.0",
      "model_name": "LayoutModel",
      "state": {
       "_model_module": "@jupyter-widgets/base",
       "_model_module_version": "1.2.0",
       "_model_name": "LayoutModel",
       "_view_count": null,
       "_view_module": "@jupyter-widgets/base",
       "_view_module_version": "1.2.0",
       "_view_name": "LayoutView",
       "align_content": null,
       "align_items": null,
       "align_self": null,
       "border": null,
       "bottom": null,
       "display": null,
       "flex": null,
       "flex_flow": null,
       "grid_area": null,
       "grid_auto_columns": null,
       "grid_auto_flow": null,
       "grid_auto_rows": null,
       "grid_column": null,
       "grid_gap": null,
       "grid_row": null,
       "grid_template_areas": null,
       "grid_template_columns": null,
       "grid_template_rows": null,
       "height": null,
       "justify_content": null,
       "justify_items": null,
       "left": null,
       "margin": null,
       "max_height": null,
       "max_width": null,
       "min_height": null,
       "min_width": null,
       "object_fit": null,
       "object_position": null,
       "order": null,
       "overflow": null,
       "overflow_x": null,
       "overflow_y": null,
       "padding": null,
       "right": null,
       "top": null,
       "visibility": null,
       "width": null
      }
     },
     "902cdd48509d40b79cd445bbccde1134": {
      "model_module": "@jupyter-widgets/base",
      "model_module_version": "1.2.0",
      "model_name": "LayoutModel",
      "state": {
       "_model_module": "@jupyter-widgets/base",
       "_model_module_version": "1.2.0",
       "_model_name": "LayoutModel",
       "_view_count": null,
       "_view_module": "@jupyter-widgets/base",
       "_view_module_version": "1.2.0",
       "_view_name": "LayoutView",
       "align_content": null,
       "align_items": null,
       "align_self": null,
       "border": null,
       "bottom": null,
       "display": null,
       "flex": null,
       "flex_flow": null,
       "grid_area": null,
       "grid_auto_columns": null,
       "grid_auto_flow": null,
       "grid_auto_rows": null,
       "grid_column": null,
       "grid_gap": null,
       "grid_row": null,
       "grid_template_areas": null,
       "grid_template_columns": null,
       "grid_template_rows": null,
       "height": null,
       "justify_content": null,
       "justify_items": null,
       "left": null,
       "margin": null,
       "max_height": null,
       "max_width": null,
       "min_height": null,
       "min_width": null,
       "object_fit": null,
       "object_position": null,
       "order": null,
       "overflow": null,
       "overflow_x": null,
       "overflow_y": null,
       "padding": null,
       "right": null,
       "top": null,
       "visibility": null,
       "width": null
      }
     },
     "947f234c456748ea98b0acef2eacec31": {
      "model_module": "@jupyter-widgets/controls",
      "model_module_version": "1.5.0",
      "model_name": "HBoxModel",
      "state": {
       "_dom_classes": [],
       "_model_module": "@jupyter-widgets/controls",
       "_model_module_version": "1.5.0",
       "_model_name": "HBoxModel",
       "_view_count": null,
       "_view_module": "@jupyter-widgets/controls",
       "_view_module_version": "1.5.0",
       "_view_name": "HBoxView",
       "box_style": "",
       "children": [
        "IPY_MODEL_1a82f8c24fe6417e86c5006a1cc5d62f",
        "IPY_MODEL_5ee0370231bb4ab187606b07f414c2bf",
        "IPY_MODEL_6f77e9afd07b4df784030609e3d5947c"
       ],
       "layout": "IPY_MODEL_34e2713e45f0404eae496df2216cad0f"
      }
     },
     "98ef0880b890488ab250415d94dff26a": {
      "model_module": "@jupyter-widgets/base",
      "model_module_version": "1.2.0",
      "model_name": "LayoutModel",
      "state": {
       "_model_module": "@jupyter-widgets/base",
       "_model_module_version": "1.2.0",
       "_model_name": "LayoutModel",
       "_view_count": null,
       "_view_module": "@jupyter-widgets/base",
       "_view_module_version": "1.2.0",
       "_view_name": "LayoutView",
       "align_content": null,
       "align_items": null,
       "align_self": null,
       "border": null,
       "bottom": null,
       "display": null,
       "flex": null,
       "flex_flow": null,
       "grid_area": null,
       "grid_auto_columns": null,
       "grid_auto_flow": null,
       "grid_auto_rows": null,
       "grid_column": null,
       "grid_gap": null,
       "grid_row": null,
       "grid_template_areas": null,
       "grid_template_columns": null,
       "grid_template_rows": null,
       "height": null,
       "justify_content": null,
       "justify_items": null,
       "left": null,
       "margin": null,
       "max_height": null,
       "max_width": null,
       "min_height": null,
       "min_width": null,
       "object_fit": null,
       "object_position": null,
       "order": null,
       "overflow": null,
       "overflow_x": null,
       "overflow_y": null,
       "padding": null,
       "right": null,
       "top": null,
       "visibility": null,
       "width": null
      }
     },
     "a03d63fec3a54996b22c85ae4c02aeed": {
      "model_module": "@jupyter-widgets/controls",
      "model_module_version": "1.5.0",
      "model_name": "ProgressStyleModel",
      "state": {
       "_model_module": "@jupyter-widgets/controls",
       "_model_module_version": "1.5.0",
       "_model_name": "ProgressStyleModel",
       "_view_count": null,
       "_view_module": "@jupyter-widgets/base",
       "_view_module_version": "1.2.0",
       "_view_name": "StyleView",
       "bar_color": null,
       "description_width": ""
      }
     },
     "a850edd0ef4c4d27bf5a704658c08118": {
      "model_module": "@jupyter-widgets/controls",
      "model_module_version": "1.5.0",
      "model_name": "HTMLModel",
      "state": {
       "_dom_classes": [],
       "_model_module": "@jupyter-widgets/controls",
       "_model_module_version": "1.5.0",
       "_model_name": "HTMLModel",
       "_view_count": null,
       "_view_module": "@jupyter-widgets/controls",
       "_view_module_version": "1.5.0",
       "_view_name": "HTMLView",
       "description": "",
       "description_tooltip": null,
       "layout": "IPY_MODEL_902cdd48509d40b79cd445bbccde1134",
       "placeholder": "​",
       "style": "IPY_MODEL_6f2ffbec63ac4e3a8314c7c4459936b7",
       "value": " 28.0/28.0 [00:00&lt;00:00, 1.15kB/s]"
      }
     },
     "b49ada4d268649119eeb2dacc7ef100d": {
      "model_module": "@jupyter-widgets/controls",
      "model_module_version": "1.5.0",
      "model_name": "FloatProgressModel",
      "state": {
       "_dom_classes": [],
       "_model_module": "@jupyter-widgets/controls",
       "_model_module_version": "1.5.0",
       "_model_name": "FloatProgressModel",
       "_view_count": null,
       "_view_module": "@jupyter-widgets/controls",
       "_view_module_version": "1.5.0",
       "_view_name": "ProgressView",
       "bar_style": "success",
       "description": "",
       "description_tooltip": null,
       "layout": "IPY_MODEL_642f150d2acf465aa9b8e525ec7afe1e",
       "max": 231508.0,
       "min": 0.0,
       "orientation": "horizontal",
       "style": "IPY_MODEL_c95a70776f3a4996ac7ad1b55b65bcf8",
       "value": 231508.0
      }
     },
     "b7fcb3eb8c184c1fb2b3d7e8d2dc3f23": {
      "model_module": "@jupyter-widgets/controls",
      "model_module_version": "1.5.0",
      "model_name": "HTMLModel",
      "state": {
       "_dom_classes": [],
       "_model_module": "@jupyter-widgets/controls",
       "_model_module_version": "1.5.0",
       "_model_name": "HTMLModel",
       "_view_count": null,
       "_view_module": "@jupyter-widgets/controls",
       "_view_module_version": "1.5.0",
       "_view_name": "HTMLView",
       "description": "",
       "description_tooltip": null,
       "layout": "IPY_MODEL_f449d9a6ac534dae9336308bcda6c3ee",
       "placeholder": "​",
       "style": "IPY_MODEL_53291b422d9d42bab0825b979b058206",
       "value": " 511M/511M [00:17&lt;00:00, 33.0MB/s]"
      }
     },
     "bbff378a154049e793eca98df6b4af23": {
      "model_module": "@jupyter-widgets/base",
      "model_module_version": "1.2.0",
      "model_name": "LayoutModel",
      "state": {
       "_model_module": "@jupyter-widgets/base",
       "_model_module_version": "1.2.0",
       "_model_name": "LayoutModel",
       "_view_count": null,
       "_view_module": "@jupyter-widgets/base",
       "_view_module_version": "1.2.0",
       "_view_name": "LayoutView",
       "align_content": null,
       "align_items": null,
       "align_self": null,
       "border": null,
       "bottom": null,
       "display": null,
       "flex": null,
       "flex_flow": null,
       "grid_area": null,
       "grid_auto_columns": null,
       "grid_auto_flow": null,
       "grid_auto_rows": null,
       "grid_column": null,
       "grid_gap": null,
       "grid_row": null,
       "grid_template_areas": null,
       "grid_template_columns": null,
       "grid_template_rows": null,
       "height": null,
       "justify_content": null,
       "justify_items": null,
       "left": null,
       "margin": null,
       "max_height": null,
       "max_width": null,
       "min_height": null,
       "min_width": null,
       "object_fit": null,
       "object_position": null,
       "order": null,
       "overflow": null,
       "overflow_x": null,
       "overflow_y": null,
       "padding": null,
       "right": null,
       "top": null,
       "visibility": null,
       "width": null
      }
     },
     "c56ef854712c455c9226a3276ca8ea4d": {
      "model_module": "@jupyter-widgets/controls",
      "model_module_version": "1.5.0",
      "model_name": "FloatProgressModel",
      "state": {
       "_dom_classes": [],
       "_model_module": "@jupyter-widgets/controls",
       "_model_module_version": "1.5.0",
       "_model_name": "FloatProgressModel",
       "_view_count": null,
       "_view_module": "@jupyter-widgets/controls",
       "_view_module_version": "1.5.0",
       "_view_name": "ProgressView",
       "bar_style": "success",
       "description": "",
       "description_tooltip": null,
       "layout": "IPY_MODEL_d4e0188fdff440958c218a45f1ea92e3",
       "max": 536063208.0,
       "min": 0.0,
       "orientation": "horizontal",
       "style": "IPY_MODEL_1c580c1521bc4e2da4194dffc1f404e6",
       "value": 536063208.0
      }
     },
     "c90c5ada1d2c45249ef8a3e67ceea74b": {
      "model_module": "@jupyter-widgets/base",
      "model_module_version": "1.2.0",
      "model_name": "LayoutModel",
      "state": {
       "_model_module": "@jupyter-widgets/base",
       "_model_module_version": "1.2.0",
       "_model_name": "LayoutModel",
       "_view_count": null,
       "_view_module": "@jupyter-widgets/base",
       "_view_module_version": "1.2.0",
       "_view_name": "LayoutView",
       "align_content": null,
       "align_items": null,
       "align_self": null,
       "border": null,
       "bottom": null,
       "display": null,
       "flex": null,
       "flex_flow": null,
       "grid_area": null,
       "grid_auto_columns": null,
       "grid_auto_flow": null,
       "grid_auto_rows": null,
       "grid_column": null,
       "grid_gap": null,
       "grid_row": null,
       "grid_template_areas": null,
       "grid_template_columns": null,
       "grid_template_rows": null,
       "height": null,
       "justify_content": null,
       "justify_items": null,
       "left": null,
       "margin": null,
       "max_height": null,
       "max_width": null,
       "min_height": null,
       "min_width": null,
       "object_fit": null,
       "object_position": null,
       "order": null,
       "overflow": null,
       "overflow_x": null,
       "overflow_y": null,
       "padding": null,
       "right": null,
       "top": null,
       "visibility": null,
       "width": null
      }
     },
     "c95a70776f3a4996ac7ad1b55b65bcf8": {
      "model_module": "@jupyter-widgets/controls",
      "model_module_version": "1.5.0",
      "model_name": "ProgressStyleModel",
      "state": {
       "_model_module": "@jupyter-widgets/controls",
       "_model_module_version": "1.5.0",
       "_model_name": "ProgressStyleModel",
       "_view_count": null,
       "_view_module": "@jupyter-widgets/base",
       "_view_module_version": "1.2.0",
       "_view_name": "StyleView",
       "bar_color": null,
       "description_width": ""
      }
     },
     "d4e0188fdff440958c218a45f1ea92e3": {
      "model_module": "@jupyter-widgets/base",
      "model_module_version": "1.2.0",
      "model_name": "LayoutModel",
      "state": {
       "_model_module": "@jupyter-widgets/base",
       "_model_module_version": "1.2.0",
       "_model_name": "LayoutModel",
       "_view_count": null,
       "_view_module": "@jupyter-widgets/base",
       "_view_module_version": "1.2.0",
       "_view_name": "LayoutView",
       "align_content": null,
       "align_items": null,
       "align_self": null,
       "border": null,
       "bottom": null,
       "display": null,
       "flex": null,
       "flex_flow": null,
       "grid_area": null,
       "grid_auto_columns": null,
       "grid_auto_flow": null,
       "grid_auto_rows": null,
       "grid_column": null,
       "grid_gap": null,
       "grid_row": null,
       "grid_template_areas": null,
       "grid_template_columns": null,
       "grid_template_rows": null,
       "height": null,
       "justify_content": null,
       "justify_items": null,
       "left": null,
       "margin": null,
       "max_height": null,
       "max_width": null,
       "min_height": null,
       "min_width": null,
       "object_fit": null,
       "object_position": null,
       "order": null,
       "overflow": null,
       "overflow_x": null,
       "overflow_y": null,
       "padding": null,
       "right": null,
       "top": null,
       "visibility": null,
       "width": null
      }
     },
     "e2abb06313f1425e8fd882cc1187d0a7": {
      "model_module": "@jupyter-widgets/controls",
      "model_module_version": "1.5.0",
      "model_name": "DescriptionStyleModel",
      "state": {
       "_model_module": "@jupyter-widgets/controls",
       "_model_module_version": "1.5.0",
       "_model_name": "DescriptionStyleModel",
       "_view_count": null,
       "_view_module": "@jupyter-widgets/base",
       "_view_module_version": "1.2.0",
       "_view_name": "StyleView",
       "description_width": ""
      }
     },
     "e3304003fd14424b8084243622d4a671": {
      "model_module": "@jupyter-widgets/controls",
      "model_module_version": "1.5.0",
      "model_name": "ProgressStyleModel",
      "state": {
       "_model_module": "@jupyter-widgets/controls",
       "_model_module_version": "1.5.0",
       "_model_name": "ProgressStyleModel",
       "_view_count": null,
       "_view_module": "@jupyter-widgets/base",
       "_view_module_version": "1.2.0",
       "_view_name": "StyleView",
       "bar_color": null,
       "description_width": ""
      }
     },
     "f449d9a6ac534dae9336308bcda6c3ee": {
      "model_module": "@jupyter-widgets/base",
      "model_module_version": "1.2.0",
      "model_name": "LayoutModel",
      "state": {
       "_model_module": "@jupyter-widgets/base",
       "_model_module_version": "1.2.0",
       "_model_name": "LayoutModel",
       "_view_count": null,
       "_view_module": "@jupyter-widgets/base",
       "_view_module_version": "1.2.0",
       "_view_name": "LayoutView",
       "align_content": null,
       "align_items": null,
       "align_self": null,
       "border": null,
       "bottom": null,
       "display": null,
       "flex": null,
       "flex_flow": null,
       "grid_area": null,
       "grid_auto_columns": null,
       "grid_auto_flow": null,
       "grid_auto_rows": null,
       "grid_column": null,
       "grid_gap": null,
       "grid_row": null,
       "grid_template_areas": null,
       "grid_template_columns": null,
       "grid_template_rows": null,
       "height": null,
       "justify_content": null,
       "justify_items": null,
       "left": null,
       "margin": null,
       "max_height": null,
       "max_width": null,
       "min_height": null,
       "min_width": null,
       "object_fit": null,
       "object_position": null,
       "order": null,
       "overflow": null,
       "overflow_x": null,
       "overflow_y": null,
       "padding": null,
       "right": null,
       "top": null,
       "visibility": null,
       "width": null
      }
     }
    },
    "version_major": 2,
    "version_minor": 0
   }
  }
 },
 "nbformat": 4,
 "nbformat_minor": 5
}
